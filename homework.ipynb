{
 "cells": [
  {
   "cell_type": "markdown",
   "metadata": {},
   "source": [
    "# Object-Oriented-Programming (OOP)"
   ]
  },
  {
   "cell_type": "markdown",
   "metadata": {},
   "source": [
    "# Exercises"
   ]
  },
  {
   "cell_type": "markdown",
   "metadata": {},
   "source": [
    "### Exercise 1 - Turn the shopping cart program from yesterday into an object-oriented program\n",
    "\n",
    "The comments in the cell below are there as a guide for thinking about the problem. However, if you feel a different way is best for you and your own thought process, please do what feels best for you by all means."
   ]
  },
  {
   "cell_type": "code",
   "execution_count": 3,
   "metadata": {
    "scrolled": false
   },
   "outputs": [
    {
     "name": "stdout",
     "output_type": "stream",
     "text": [
      "Welcome to Lonardo Groceries. When you're here, you're family! Do you want to: Show/Add/Delete or Quit?\n",
      "add\n",
      "What would you like to add to your cart? Please type \"quit\" when you are done.\n",
      "banana\n",
      "What would you like to add to your cart? Please type \"quit\" when you are done.\n",
      "banana\n",
      "Adding banana\n",
      "What would you like to add to your cart? Please type \"quit\" when you are done.\n",
      "rice\n",
      "What would you like to add to your cart? Please type \"quit\" when you are done.\n",
      "fish\n",
      "What would you like to add to your cart? Please type \"quit\" when you are done.\n",
      "beans\n",
      "What would you like to add to your cart? Please type \"quit\" when you are done.\n",
      "quit\n",
      "Welcome to Lonardo Groceries. When you're here, you're family! Do you want to: Show/Add/Delete or Quit?\n",
      "show\n",
      "{'banana': 2, 'rice': 1, 'fish': 1, 'beans': 1}\n",
      "Welcome to Lonardo Groceries. When you're here, you're family! Do you want to: Show/Add/Delete or Quit?\n",
      "delete\n",
      "What item would you like to remove? Please type \"quit\" when you are done. Here's what's in your cart: \n",
      "            \n",
      "{'banana': 2, 'rice': 1, 'fish': 1, 'beans': 1}beans\n",
      "Removing beans from your cart.\n",
      "What item would you like to remove? Please type \"quit\" when you are done. Here's what's in your cart: \n",
      "            \n",
      "{'banana': 2, 'rice': 1, 'fish': 1}quit\n",
      "Welcome to Lonardo Groceries. When you're here, you're family! Do you want to: Show/Add/Delete or Quit?\n",
      "quit\n",
      "Thanks for shopping with us, have a great day.\n"
     ]
    }
   ],
   "source": [
    "class Cart():\n",
    "        \n",
    "    def __init__(self):\n",
    "        self.cart = {}\n",
    "        \n",
    "    def shop(self):\n",
    "        while True:\n",
    "            prompt = input(\"Welcome to Lonardo Groceries. When you're here, you're family! Do you want to: Show/Add/Delete or Quit?\\n\")\n",
    "            if prompt.lower() == 'add':\n",
    "                self.add_item()\n",
    "            elif prompt.lower() == 'delete':\n",
    "                self.remove_item()\n",
    "            elif prompt.lower() == 'show':\n",
    "                self.show()\n",
    "            elif prompt.lower() == 'quit':\n",
    "                print('Thanks for shopping with us, have a great day.')\n",
    "                break\n",
    "        \n",
    "    def add_item(self):\n",
    "        while True:\n",
    "            quantity = 0\n",
    "            item = input('What would you like to add to your cart? Please type \"quit\" when you are done.\\n')\n",
    "            if item in self.cart:\n",
    "                print(f\"Adding {item}\")\n",
    "                self.cart[item] += 1  \n",
    "            elif item.lower() == 'quit':\n",
    "                break\n",
    "            else:\n",
    "                self.cart[item] = 1\n",
    "            \n",
    "    def remove_item(self):\n",
    "        while True:\n",
    "            item = input(f\"\"\"What item would you like to remove? Please type \"quit\" when you are done. Here's what's in your cart: \n",
    "            \\n{self.cart}\"\"\")\n",
    "            \n",
    "            if item == 'quit':\n",
    "                break\n",
    "            elif item not in self.cart:\n",
    "                print('That item is not in your cart. Please make another selection.')\n",
    "            else:\n",
    "                print(f\"Removing {item} from your cart.\")\n",
    "                del self.cart[item]\n",
    "    \n",
    "    def show(self):\n",
    "        print(self.cart)\n",
    "    \n",
    "\n",
    "jessa = Cart()\n",
    "jessa.shop()"
   ]
  },
  {
   "cell_type": "markdown",
   "metadata": {},
   "source": [
    "### Exercise 2 - Write a Python class which has two methods get_String and print_String. get_String accept a string from the user and print_String print the string in upper case"
   ]
  },
  {
   "cell_type": "code",
   "execution_count": 11,
   "metadata": {
    "scrolled": true
   },
   "outputs": [
    {
     "name": "stdout",
     "output_type": "stream",
     "text": [
      "Please input a string.\n",
      "Please give me 4 or 5 points on this assignment :)\n",
      "Printing string...... Please give me 4 or 5 points on this assignment :)\n"
     ]
    }
   ],
   "source": [
    "class Strings():\n",
    "\n",
    "    def get_string(self):\n",
    "        self.string = input('Please input a string.\\n')\n",
    "        self.print_string()\n",
    "        \n",
    "    def print_string(self):\n",
    "        print(f\"Printing string...... {self.string}\")\n",
    "\n",
    "test = Strings()\n",
    "test.get_string()"
   ]
  }
 ],
 "metadata": {
  "kernelspec": {
   "display_name": "Python 3 (ipykernel)",
   "language": "python",
   "name": "python3"
  },
  "language_info": {
   "codemirror_mode": {
    "name": "ipython",
    "version": 3
   },
   "file_extension": ".py",
   "mimetype": "text/x-python",
   "name": "python",
   "nbconvert_exporter": "python",
   "pygments_lexer": "ipython3",
   "version": "3.8.8"
  }
 },
 "nbformat": 4,
 "nbformat_minor": 2
}
